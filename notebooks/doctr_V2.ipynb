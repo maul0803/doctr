{
  "cells": [
    {
      "cell_type": "code",
      "execution_count": 1,
      "metadata": {},
      "outputs": [
        {
          "name": "stderr",
          "output_type": "stream",
          "text": [
            "/mnt/netapp2/Store_uni/home/ulc/cursos/curso341/my_env310/lib/python3.10/site-packages/tqdm/auto.py:21: TqdmWarning: IProgress not found. Please update jupyter and ipywidgets. See https://ipywidgets.readthedocs.io/en/stable/user_install.html\n",
            "  from .autonotebook import tqdm as notebook_tqdm\n"
          ]
        }
      ],
      "source": [
        "import os\n",
        "import torch\n",
        "from doctr.datasets import VOCABS\n",
        "from doctr.models import vitstr_small, ocr_predictor\n",
        "from doctr.io import DocumentFile\n",
        "from PIL import Image\n",
        "from tempfile import TemporaryDirectory\n",
        "from ocrmypdf.hocrtransform import HocrTransform\n",
        "from PyPDF2 import PdfMerger"
      ]
    },
    {
      "cell_type": "code",
      "execution_count": 2,
      "metadata": {},
      "outputs": [],
      "source": [
        "# Fonction pour vérifier si CUDA est disponible\n",
        "def check_cuda():\n",
        "    \"\"\"Vérifie si CUDA est disponible pour l'accélération GPU.\"\"\"\n",
        "    return torch.cuda.is_available()"
      ]
    },
    {
      "cell_type": "code",
      "execution_count": 3,
      "metadata": {},
      "outputs": [],
      "source": [
        "# Fonction pour initialiser le modèle OCR avec le vocabulaire\n",
        "def initialize_ocr_model(vocab=\"english\", model_path=\"vitstr_small_20250427-124227.pt\"):\n",
        "    \"\"\"Initialise le modèle OCR avec un vocabulaire donné et un chemin vers le modèle.\"\"\"\n",
        "    # Chargement du vocabulaire\n",
        "    vocab = VOCABS[vocab]\n",
        "\n",
        "    # Initialisation du modèle\n",
        "    reco_model = vitstr_small(pretrained=False, pretrained_backbone=False, vocab=vocab)\n",
        "\n",
        "    # Chargement des poids du modèle\n",
        "    reco_params = torch.load(model_path, map_location=\"cpu\")\n",
        "    reco_model.load_state_dict(reco_params)\n",
        "    \n",
        "    # Initialisation du prédicteur OCR\n",
        "    predictor = ocr_predictor(det_arch=\"db_resnet50\", reco_arch=reco_model, pretrained=True)\n",
        "\n",
        "    # Déplacer sur GPU si disponible\n",
        "    if check_cuda():\n",
        "        predictor.cuda().half()\n",
        "\n",
        "    return predictor\n"
      ]
    },
    {
      "cell_type": "code",
      "execution_count": 4,
      "metadata": {},
      "outputs": [],
      "source": [
        "# Fonction pour traiter un document PDF et obtenir les résultats OCR\n",
        "def process_pdf(file_path, predictor):\n",
        "    \"\"\"Charge et traite un fichier PDF pour en extraire les résultats OCR.\"\"\"\n",
        "    doc = DocumentFile.from_pdf(file_path)\n",
        "    result = predictor(doc)\n",
        "    return result, doc"
      ]
    },
    {
      "cell_type": "code",
      "execution_count": 5,
      "metadata": {},
      "outputs": [],
      "source": [
        "# Fonction pour enregistrer les résultats OCR en un seul fichier PDF\n",
        "def save_ocr_results(result, doc, output_pdf_path):\n",
        "    \"\"\"Enregistre les résultats OCR sous forme d'un fichier PDF/A avec le même nom que le fichier d'origine.\"\"\"\n",
        "    # Exporter les résultats OCR au format XML\n",
        "    xml_outputs = result.export_as_xml()\n",
        "\n",
        "    # Créer un répertoire temporaire 'temp' s'il n'existe pas\n",
        "    temp_dir = \"temp\"\n",
        "    os.makedirs(temp_dir, exist_ok=True)\n",
        "\n",
        "    # Créer une liste pour les chemins des fichiers PDF\n",
        "    pdf_paths = []\n",
        "\n",
        "    # Sauvegarder les images et fichiers XML pour chaque page\n",
        "    for i, (xml, img) in enumerate(zip(xml_outputs, doc)):\n",
        "        # Sauvegarder l'image sous forme de fichier JPEG\n",
        "        img_path = os.path.join(temp_dir, f\"{i}.jpg\")\n",
        "        Image.fromarray(img).save(img_path)\n",
        "\n",
        "        # Sauvegarder le fichier XML\n",
        "        xml_path = os.path.join(temp_dir, f\"{i}.xml\")\n",
        "        with open(xml_path, \"w\") as f:\n",
        "            f.write(xml[0].decode())  # xml[0] contient la chaîne XML en bytes\n",
        "\n",
        "        # Initialiser le transformateur hOCR pour convertir en PDF/A pour chaque page\n",
        "        hocr = HocrTransform(hocr_filename=xml_path, dpi=300)\n",
        "        page_pdf_path = os.path.join(temp_dir, f\"{i}_page.pdf\")\n",
        "        \n",
        "        # Sauvegarder chaque page en PDF/A\n",
        "        hocr.to_pdf(out_filename=page_pdf_path, image_filename=img_path)\n",
        "\n",
        "        # Ajouter le fichier PDF de la page à la liste\n",
        "        pdf_paths.append(page_pdf_path)\n",
        "\n",
        "    # Créer un fichier PDF final en concaténant tous les fichiers PDF de chaque page\n",
        "    merger = PdfMerger()\n",
        "\n",
        "    # Ajouter chaque fichier PDF de page à l'instance de PdfMerger\n",
        "    for pdf in pdf_paths:\n",
        "        merger.append(pdf)\n",
        "\n",
        "    # Sauvegarder le fichier PDF final dans le répertoire 'output'\n",
        "    merger.write(output_pdf_path)\n",
        "    merger.close()\n",
        "\n",
        "    # Supprimer le contenu du répertoire temporaire\n",
        "    for pdf_path in pdf_paths:\n",
        "        os.remove(pdf_path)\n",
        "    for file in os.listdir(temp_dir):\n",
        "        file_path = os.path.join(temp_dir, file)\n",
        "        if os.path.isfile(file_path):\n",
        "            os.remove(file_path)\n",
        "    os.rmdir(temp_dir)\n",
        "\n",
        "    print(f\"Le fichier PDF/A final a été sauvegardé sous '{output_pdf_path}'.\")"
      ]
    },
    {
      "cell_type": "code",
      "execution_count": 6,
      "metadata": {},
      "outputs": [],
      "source": [
        "# Fonction pour traiter tous les fichiers PDF dans un répertoire d'entrée\n",
        "def process_pdfs_in_directory(input_dir, output_dir, predictor):\n",
        "    \"\"\"Traite tous les fichiers PDF dans un répertoire donné et les enregistre sous forme de PDF/A.\"\"\"\n",
        "    # Liste tous les fichiers dans le répertoire d'entrée\n",
        "    for filename in os.listdir(input_dir):\n",
        "        file_path = os.path.join(input_dir, filename)\n",
        "\n",
        "        # Vérifie si c'est un fichier PDF\n",
        "        if filename.lower().endswith('.pdf'):\n",
        "            print(f\"Traitement du fichier: {filename}\")\n",
        "            # Traite le PDF et obtient les résultats OCR\n",
        "            result, doc = process_pdf(file_path, predictor)\n",
        "\n",
        "            # Créer le nom de fichier de sortie avec le même nom que le fichier d'origine\n",
        "            output_pdf_path = os.path.join(output_dir, filename)\n",
        "\n",
        "            # Sauvegarder les résultats sous forme de PDF/A avec le même nom\n",
        "            save_ocr_results(result, doc, output_pdf_path)\n",
        "        else:\n",
        "            print(f\"Le fichier {filename} n'est pas un PDF, il sera ignoré.\")\n"
      ]
    },
    {
      "cell_type": "code",
      "execution_count": 7,
      "metadata": {},
      "outputs": [],
      "source": [
        "# Fonction principale pour initialiser et lancer le processus\n",
        "def main(input_dir, output_dir, vocab=\"english\", model_path=\"vitstr_small_20250427-124227.pt\"):\n",
        "    \"\"\"Fonction principale pour initialiser le modèle OCR et traiter les PDF dans un répertoire.\"\"\"\n",
        "    print(\"Vérification de la disponibilité de CUDA:\", check_cuda())\n",
        "    os.makedirs(output_dir, exist_ok=True)\n",
        "    # Initialiser le modèle OCR\n",
        "    predictor = initialize_ocr_model(vocab, model_path)\n",
        "\n",
        "    # Traiter tous les fichiers PDF dans le répertoire d'entrée\n",
        "    process_pdfs_in_directory(input_dir, output_dir, predictor)"
      ]
    },
    {
      "cell_type": "code",
      "execution_count": 8,
      "metadata": {},
      "outputs": [
        {
          "name": "stdout",
          "output_type": "stream",
          "text": [
            "Vérification de la disponibilité de CUDA: False\n",
            "Traitement du fichier: History_of_Business-_1892-_handwritten_notes_(1).pdf\n",
            "Le fichier PDF/A final a été sauvegardé sous 'output/History_of_Business-_1892-_handwritten_notes_(1).pdf'.\n",
            "Traitement du fichier: Lettre_Feudataire_abbaye_de_Mercoire.pdf\n",
            "Le fichier PDF/A final a été sauvegardé sous 'output/Lettre_Feudataire_abbaye_de_Mercoire.pdf'.\n",
            "Traitement du fichier: COI-handwritten notes.pdf\n",
            "Le fichier PDF/A final a été sauvegardé sous 'output/COI-handwritten notes.pdf'.\n",
            "Traitement du fichier: Cash-Payment-Receipt-Template.pdf\n",
            "Le fichier PDF/A final a été sauvegardé sous 'output/Cash-Payment-Receipt-Template.pdf'.\n",
            "Traitement du fichier: Cash-Payment-Receipt-Template copy.pdf\n",
            "Le fichier PDF/A final a été sauvegardé sous 'output/Cash-Payment-Receipt-Template copy.pdf'.\n"
          ]
        }
      ],
      "source": [
        "# Exemple d'appel de la fonction principale\n",
        "if __name__ == \"__main__\":\n",
        "    input_dir = \"dataset_legacy_SAVE\"  # Répertoire des fichiers PDF à traiter\n",
        "    output_dir = \"output\"         # Répertoire de sortie pour les PDF/A traités\n",
        "    vocab = \"english\"  # Vocabulaire à utiliser\n",
        "    model_path = \"vitstr_small_20250427-124227.pt\"  # Chemin vers le modèle OCR\n",
        "    main(input_dir, output_dir)"
      ]
    }
  ],
  "metadata": {
    "colab": {
      "provenance": []
    },
    "kernelspec": {
      "display_name": "Python 3.10 (my_env310)",
      "language": "python",
      "name": "my_env310"
    },
    "language_info": {
      "codemirror_mode": {
        "name": "ipython",
        "version": 3
      },
      "file_extension": ".py",
      "mimetype": "text/x-python",
      "name": "python",
      "nbconvert_exporter": "python",
      "pygments_lexer": "ipython3",
      "version": "3.10.8"
    }
  },
  "nbformat": 4,
  "nbformat_minor": 0
}
